{
 "cells": [
  {
   "cell_type": "markdown",
   "id": "6aab0017-e436-4aaa-9425-ffbd6f181c42",
   "metadata": {},
   "source": [
    "# Data Science Tools and Ecosystem"
   ]
  },
  {
   "cell_type": "markdown",
   "id": "26142aaa-4e20-4adb-8773-f4b60a975a2a",
   "metadata": {},
   "source": [
    "In this notebook, Data Science Tools and Ecosystem are summarized."
   ]
  },
  {
   "cell_type": "markdown",
   "id": "7678a28e-9005-4283-9aa7-c9440d1da32f",
   "metadata": {},
   "source": [
    "<b>Objectives</b>\n",
    "- List popular languages for Data Science\n",
    "- Some of the commonly used libraries used by Data Scientists include\n",
    "- How to Use Ordered Lists Examples \n",
    "- How to Use Python Commands\n"
   ]
  },
  {
   "cell_type": "markdown",
   "id": "e7e32cd2-80e6-412f-b803-0700987325e1",
   "metadata": {},
   "source": [
    "Some of the popular languages that Data Scientists use are:\n",
    "    <ol>\n",
    "    <li>Python</li>\n",
    "    <li>R</li>\n",
    "    <li>Julia</li>\n",
    "    </ol>"
   ]
  },
  {
   "cell_type": "markdown",
   "id": "5c165272-4127-4352-a56d-c908f7518d4f",
   "metadata": {},
   "source": [
    "Some of the commonly used libraries used by Data Scientists include:\n",
    "    <ol>\n",
    "    <li>Pandas</li>\n",
    "    <li>Numpy</li>\n",
    "    <li>SK-Learn</li>\n",
    "    </ol>"
   ]
  },
  {
   "cell_type": "markdown",
   "id": "048fe11f-9954-4e04-acc4-0c713b5c7ee0",
   "metadata": {},
   "source": [
    "<table>\n",
    "    <tr>\n",
    "    <th>Data Science Tools</th>\n",
    "    </tr>\n",
    "    <tr>\n",
    "        <td>Visual Studio Code</td>\n",
    "    </tr> \n",
    "    <tr>\n",
    "        <td>R Studio</td>\n",
    "     </tr>\n",
    "    <tr>\n",
    "         <td>GitHub<td>\n",
    "    </tr>\n",
    "</table>"
   ]
  },
  {
   "cell_type": "markdown",
   "id": "5225b6aa-6193-4581-a9e7-54f06749e7b9",
   "metadata": {
    "tags": []
   },
   "source": [
    "### Below are a few examples of evaluating arithmetic expressions in Python"
   ]
  },
  {
   "cell_type": "code",
   "execution_count": 2,
   "id": "ff2128ee-883c-4e88-b45b-d77eb7dd007b",
   "metadata": {
    "tags": []
   },
   "outputs": [
    {
     "data": {
      "text/plain": [
       "17"
      ]
     },
     "execution_count": 2,
     "metadata": {},
     "output_type": "execute_result"
    }
   ],
   "source": [
    "# This a simple arithmetic expression to mutiply then add integers\n",
    "(3*4)+5"
   ]
  },
  {
   "cell_type": "code",
   "execution_count": 4,
   "id": "67077612-f871-4992-af1b-3a0fc1789cf8",
   "metadata": {
    "tags": []
   },
   "outputs": [
    {
     "name": "stdout",
     "output_type": "stream",
     "text": [
      "3\n"
     ]
    }
   ],
   "source": [
    "# This will convert 200 minutes to hours by diving by 60\n",
    "minutes = 200\n",
    "hours = minutes // 60\n",
    "print(hours)"
   ]
  },
  {
   "cell_type": "markdown",
   "id": "2f00fcb2-518a-4d70-9550-22ef44d3d73b",
   "metadata": {},
   "source": [
    "<h2>Author</h2>\n",
    "Mauricio F. L. Pereira"
   ]
  }
 ],
 "metadata": {
  "kernelspec": {
   "display_name": "Python",
   "language": "python",
   "name": "conda-env-python-py"
  },
  "language_info": {
   "codemirror_mode": {
    "name": "ipython",
    "version": 3
   },
   "file_extension": ".py",
   "mimetype": "text/x-python",
   "name": "python",
   "nbconvert_exporter": "python",
   "pygments_lexer": "ipython3",
   "version": "3.7.12"
  }
 },
 "nbformat": 4,
 "nbformat_minor": 5
}
